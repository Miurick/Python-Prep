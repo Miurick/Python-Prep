{
 "cells": [
  {
   "attachments": {},
   "cell_type": "markdown",
   "metadata": {},
   "source": [
    "Sintaxis de if\n",
    "\n",
    "if condicion:\n",
    "    # codigo que quiero que haga si la condicion es verdadera"
   ]
  },
  {
   "cell_type": "code",
   "execution_count": 7,
   "metadata": {},
   "outputs": [
    {
     "name": "stdout",
     "output_type": "stream",
     "text": [
      "el numero es negativo\n",
      "entramos en la condicion elif\n"
     ]
    }
   ],
   "source": [
    "numero = -5\n",
    "\n",
    "if numero > 0:\n",
    "    print(\"el numero es positivo\")     \n",
    "    print(\"entramos en la condicion if\")   \n",
    "elif numero < 0:\n",
    "    print(\"el numero es negativo\")\n",
    "    print(\"entramos en la condicion elif\")   \n",
    "else:\n",
    "    print(\"el numero es cero\")\n",
    "    print(\"entramos en la condicion else\")\n",
    "# utilizando la f:\n",
    "    #print(f\"el numero {numero} es positivo\")\n",
    "# elif numero < 0:\n",
    "#  print(\"el numero es negativo\")"
   ]
  },
  {
   "cell_type": "code",
   "execution_count": null,
   "metadata": {},
   "outputs": [],
   "source": [
    "numero = 0\n",
    "\n",
    "if numero >= 0:\n",
    "    print(f\"el numero es positivo\")     \n",
    "    print(\"entramos en la condicion numero > 0 if\")   \n",
    "elif numero < 0:\n",
    "    print(\"el numero es negativo\")\n",
    "    print(\"entramos en la condicion elif\")   \n",
    "else:\n",
    "    print(\"el numero es cero\")\n",
    "    print(\"entramos en la condicion else\")"
   ]
  }
 ],
 "metadata": {
  "kernelspec": {
   "display_name": "Python 3",
   "language": "python",
   "name": "python3"
  },
  "language_info": {
   "codemirror_mode": {
    "name": "ipython",
    "version": 3
   },
   "file_extension": ".py",
   "mimetype": "text/x-python",
   "name": "python",
   "nbconvert_exporter": "python",
   "pygments_lexer": "ipython3",
   "version": "3.10.11"
  },
  "orig_nbformat": 4
 },
 "nbformat": 4,
 "nbformat_minor": 2
}
